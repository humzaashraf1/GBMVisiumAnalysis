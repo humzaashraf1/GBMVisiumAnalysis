{
 "cells": [
  {
   "cell_type": "code",
   "execution_count": null,
   "metadata": {},
   "outputs": [],
   "source": [
    "import scanpy as sc\n",
    "import pandas as pd\n",
    "import matplotlib.pyplot as plt\n",
    "import seaborn as sns"
   ]
  },
  {
   "cell_type": "code",
   "execution_count": null,
   "metadata": {},
   "outputs": [],
   "source": [
    "adata = sc.datasets.visium_sge(sample_id=\"Parent_Visium_Human_Glioblastoma\")\n",
    "adata.var_names_make_unique()\n",
    "adata.var[\"mt\"] = adata.var_names.str.startswith(\"MT-\")\n",
    "sc.pp.calculate_qc_metrics(adata, qc_vars=[\"mt\"], inplace=True)"
   ]
  },
  {
   "cell_type": "code",
   "execution_count": null,
   "metadata": {},
   "outputs": [],
   "source": [
    "sc.pl.violin(\n",
    "    adata,\n",
    "    [\"n_genes_by_counts\", \"total_counts\", \"pct_counts_mt\"],\n",
    "    jitter=0.4,\n",
    "    multi_panel=True,\n",
    ")"
   ]
  },
  {
   "cell_type": "code",
   "execution_count": null,
   "metadata": {},
   "outputs": [],
   "source": [
    "sc.pl.scatter(adata, \"total_counts\", \"n_genes_by_counts\", color=\"pct_counts_mt\")"
   ]
  },
  {
   "cell_type": "code",
   "execution_count": null,
   "metadata": {},
   "outputs": [],
   "source": [
    "fig, axs = plt.subplots(1, 2, figsize=(10, 4))\n",
    "sns.histplot(adata.obs[\"total_counts\"], kde=False, ax=axs[0])\n",
    "sns.histplot(adata.obs[\"n_genes_by_counts\"], kde=False, bins=60, ax=axs[1])"
   ]
  },
  {
   "cell_type": "code",
   "execution_count": null,
   "metadata": {},
   "outputs": [],
   "source": [
    "sc.pp.filter_cells(adata, min_counts=1500)\n",
    "sc.pp.filter_cells(adata, max_counts=35000)\n",
    "adata = adata[adata.obs[\"pct_counts_mt\"] < 10].copy()\n",
    "sc.pp.filter_genes(adata, min_cells=3)\n",
    "print(f\"#spots after filtering: {adata.n_obs}\")\n",
    "\n",
    "adata_cc = adata.copy()"
   ]
  },
  {
   "cell_type": "code",
   "execution_count": null,
   "metadata": {},
   "outputs": [],
   "source": [
    "sc.pp.normalize_total(adata, inplace=True)\n",
    "sc.pp.log1p(adata)\n",
    "sc.pp.highly_variable_genes(adata, flavor=\"seurat\", n_top_genes=2000)"
   ]
  },
  {
   "cell_type": "code",
   "execution_count": null,
   "metadata": {},
   "outputs": [],
   "source": [
    "sc.pp.pca(adata)\n",
    "sc.pp.neighbors(adata)\n",
    "sc.tl.umap(adata)\n",
    "sc.tl.leiden(\n",
    "    adata, key_added=\"clusters\", flavor=\"igraph\", directed=False, n_iterations=2\n",
    ")"
   ]
  },
  {
   "cell_type": "code",
   "execution_count": null,
   "metadata": {},
   "outputs": [],
   "source": [
    "plt.rcParams[\"figure.figsize\"] = (4, 4)\n",
    "sc.pl.umap(adata, color=[\"total_counts\", \"n_genes_by_counts\", \"clusters\"], wspace=0.4)"
   ]
  },
  {
   "cell_type": "code",
   "execution_count": null,
   "metadata": {},
   "outputs": [],
   "source": [
    "import numpy as np\n",
    "\n",
    "hires_image = adata.uns[\"spatial\"][\"Parent_Visium_Human_Glioblastoma\"][\"images\"][\"hires\"]\n",
    "hires_image_uint8 = (hires_image * 255).astype(np.uint8)\n",
    "\n",
    "spot_coords = adata.obsm[\"spatial\"]\n",
    "scaling_factor = adata.uns[\"spatial\"][\"Parent_Visium_Human_Glioblastoma\"][\"scalefactors\"][\"tissue_hires_scalef\"]\n",
    "scaled_coords = spot_coords * scaling_factor\n",
    "\n",
    "fig, axs = plt.subplots(1, 2, figsize=(20, 10))\n",
    "\n",
    "axs[0].imshow(hires_image_uint8)\n",
    "axs[0].scatter(scaled_coords[:, 0], scaled_coords[:, 1], c=\"gray\", s=5, label=\"Spots\")\n",
    "axs[0].axis(\"off\")\n",
    "axs[0].legend()\n",
    "\n",
    "axs[1].imshow(hires_image_uint8)\n",
    "axs[1].axis(\"off\")\n",
    "\n",
    "plt.show()"
   ]
  },
  {
   "cell_type": "code",
   "execution_count": null,
   "metadata": {},
   "outputs": [],
   "source": [
    "plt.rcParams[\"figure.figsize\"] = (8, 8)\n",
    "sc.pl.spatial(adata, img_key=\"hires\", color=[\"total_counts\", \"n_genes_by_counts\"])"
   ]
  },
  {
   "cell_type": "code",
   "execution_count": null,
   "metadata": {},
   "outputs": [],
   "source": [
    "sc.pl.spatial(adata, img_key=\"hires\", color=\"clusters\", size=1.5)"
   ]
  },
  {
   "cell_type": "code",
   "execution_count": null,
   "metadata": {},
   "outputs": [],
   "source": [
    "sc.tl.rank_genes_groups(adata, \"clusters\", method=\"t-test\")\n",
    "sc.pl.rank_genes_groups_heatmap(adata, show_gene_labels=True)"
   ]
  },
  {
   "cell_type": "code",
   "execution_count": null,
   "metadata": {},
   "outputs": [],
   "source": [
    "sc.tl.rank_genes_groups(adata, groupby=\"clusters\", method=\"wilcoxon\")\n",
    "\n",
    "sc.pl.rank_genes_groups_dotplot(\n",
    "    adata, groupby=\"clusters\", standard_scale=\"var\", n_genes=5\n",
    ")"
   ]
  },
  {
   "cell_type": "code",
   "execution_count": null,
   "metadata": {},
   "outputs": [],
   "source": [
    "sc.tl.rank_genes_groups(adata, \"clusters\", method=\"t-test\")\n",
    "sc.pl.rank_genes_groups_heatmap(adata, groups=['4', '11', '12'], n_genes=15, groupby=\"clusters\")"
   ]
  },
  {
   "cell_type": "code",
   "execution_count": null,
   "metadata": {},
   "outputs": [],
   "source": [
    "sc.pl.spatial(\n",
    "    adata,\n",
    "    img_key=\"hires\",\n",
    "    color=\"clusters\",\n",
    "    groups=[\"11\",\"4\",\"12\"],\n",
    "    size=1.3,\n",
    ")"
   ]
  },
  {
   "cell_type": "code",
   "execution_count": null,
   "metadata": {},
   "outputs": [],
   "source": [
    "sc.pl.spatial(adata, img_key=\"hires\", color=[\"clusters\", \n",
    "                                             \"VEGFA\", \n",
    "                                             \"ADM\",\n",
    "                                             'MT1X'], groups=[\"11\", \"4\", \"12\"])"
   ]
  },
  {
   "cell_type": "code",
   "execution_count": null,
   "metadata": {},
   "outputs": [],
   "source": [
    "import pandas as pd\n",
    "\n",
    "sc.tl.rank_genes_groups(adata, groupby='clusters', method='wilcoxon')\n",
    "\n",
    "ranked_genes = pd.DataFrame({\n",
    "    'gene': adata.uns['rank_genes_groups']['names']['11'],\n",
    "    'score': adata.uns['rank_genes_groups']['scores']['11']\n",
    "})\n",
    "ranked_genes.to_csv(\"cluster11_ranked_genes.csv\", index=False)\n",
    "\n",
    "ranked_genes = pd.DataFrame({\n",
    "    'gene': adata.uns['rank_genes_groups']['names']['4'],\n",
    "    'score': adata.uns['rank_genes_groups']['scores']['4']\n",
    "})\n",
    "ranked_genes.to_csv(\"cluster4_ranked_genes.csv\", index=False)\n",
    "\n",
    "ranked_genes = pd.DataFrame({\n",
    "    'gene': adata.uns['rank_genes_groups']['names']['12'],\n",
    "    'score': adata.uns['rank_genes_groups']['scores']['12']\n",
    "})\n",
    "ranked_genes.to_csv(\"cluster12_ranked_genes.csv\", index=False)"
   ]
  },
  {
   "cell_type": "code",
   "execution_count": null,
   "metadata": {},
   "outputs": [],
   "source": [
    "with open(\"h.all.v2024.1.Hs.symbols.gmt\", \"r\") as f:\n",
    "    lines = f.readlines()\n",
    "\n",
    "for line in lines[:5]:\n",
    "    print(line.strip())"
   ]
  },
  {
   "cell_type": "code",
   "execution_count": null,
   "metadata": {},
   "outputs": [],
   "source": [
    "import gseapy as gp\n",
    "\n",
    "gsea_results = gp.prerank(\n",
    "    rnk=\"cluster4_ranked_genes.csv\",\n",
    "    gene_sets=\"h.all.v2024.1.Hs.symbols.gmt\",\n",
    "    outdir=\"gsea_results_cluster4\",  \n",
    "    permutation_num=1000,\n",
    "    min_size=15,\n",
    "    max_size=500,\n",
    ")\n",
    "\n",
    "gsea_results = gp.prerank(\n",
    "    rnk=\"cluster11_ranked_genes.csv\",  \n",
    "    gene_sets=\"h.all.v2024.1.Hs.symbols.gmt\",\n",
    "    outdir=\"gsea_results_cluster11\", \n",
    "    permutation_num=1000, \n",
    "    min_size=15,\n",
    "    max_size=500,\n",
    ")\n",
    "\n",
    "gsea_results = gp.prerank(\n",
    "    rnk=\"cluster12_ranked_genes.csv\", \n",
    "    gene_sets=\"h.all.v2024.1.Hs.symbols.gmt\",\n",
    "    outdir=\"gsea_results_cluster12\",\n",
    "    permutation_num=1000,\n",
    "    min_size=15,\n",
    "    max_size=500,\n",
    ")"
   ]
  },
  {
   "cell_type": "code",
   "execution_count": null,
   "metadata": {},
   "outputs": [],
   "source": [
    "import json\n",
    "\n",
    "with open('HALLMARK_HYPOXIA.v2024.1.Hs.json') as f:\n",
    "    data = json.load(f)\n",
    "\n",
    "geneset_hypoxia = data[\"HALLMARK_HYPOXIA\"][\"geneSymbols\"]\n",
    "\n",
    "geneset_in_data = [gene for gene in geneset_hypoxia if gene in adata.var_names]\n",
    "\n",
    "sc.tl.score_genes(adata, gene_list=geneset_in_data, score_name='hypoxia_score')\n",
    "\n",
    "sc.pl.spatial(adata, img_key=\"hires\", color=[\"clusters\",\"hypoxia_score\"], groups=[\"11\", \"4\", \"12\"])"
   ]
  },
  {
   "cell_type": "code",
   "execution_count": null,
   "metadata": {},
   "outputs": [],
   "source": [
    "cell_cycle_genes = [x.strip() for x in open('regev_lab_cell_cycle_genes.txt')]\n",
    "s_genes = cell_cycle_genes[:43]\n",
    "g2m_genes = cell_cycle_genes[43:]\n",
    "cell_cycle_genes = [x for x in cell_cycle_genes if x in adata_cc.var_names]\n",
    "\n",
    "sc.pp.filter_cells(adata_cc, min_genes=200)\n",
    "sc.pp.filter_genes(adata_cc, min_cells=3)\n",
    "sc.pp.normalize_per_cell(adata_cc, counts_per_cell_after=1e4)\n",
    "\n",
    "sc.pp.log1p(adata_cc)\n",
    "sc.pp.scale(adata_cc)\n",
    "\n",
    "sc.tl.score_genes_cell_cycle(adata_cc, s_genes=s_genes, g2m_genes=g2m_genes)\n",
    "\n",
    "adata_cc_genes = adata_cc[:, cell_cycle_genes]\n",
    "sc.tl.pca(adata_cc_genes)\n",
    "sc.pl.pca_scatter(adata_cc_genes, color='phase')\n",
    "\n",
    "sc.pp.regress_out(adata_cc_genes, ['S_score', 'G2M_score'])\n",
    "sc.pp.scale(adata_cc_genes)"
   ]
  },
  {
   "cell_type": "code",
   "execution_count": null,
   "metadata": {},
   "outputs": [],
   "source": [
    "adata.obs['phase'] = adata_cc_genes.obs['phase'].map({'S': 'Cycling', 'G2M': 'Cycling', 'G1': 'Non Cycling'})\n"
   ]
  },
  {
   "cell_type": "code",
   "execution_count": null,
   "metadata": {},
   "outputs": [],
   "source": [
    "sc.pl.spatial(adata, img_key=\"hires\", color=[\"clusters\",\"phase\"])"
   ]
  },
  {
   "cell_type": "code",
   "execution_count": null,
   "metadata": {},
   "outputs": [],
   "source": [
    "sc.tl.rank_genes_groups(adata, \"clusters\", method=\"t-test\")\n",
    "sc.pl.rank_genes_groups_heatmap(adata, groups=['5', '6'], n_genes=20, groupby=\"clusters\")"
   ]
  },
  {
   "cell_type": "code",
   "execution_count": null,
   "metadata": {},
   "outputs": [],
   "source": [
    "sc.pl.spatial(adata, img_key=\"hires\", color=[\"SLN\",\"METTL7B\",\"PTN\",\"MT2A\"])"
   ]
  },
  {
   "cell_type": "code",
   "execution_count": null,
   "metadata": {},
   "outputs": [],
   "source": [
    "ranked_genes = pd.DataFrame({\n",
    "    'gene': adata.uns['rank_genes_groups']['names']['5'],\n",
    "    'score': adata.uns['rank_genes_groups']['scores']['5']\n",
    "})\n",
    "ranked_genes.to_csv(\"cluster5_ranked_genes.csv\", index=False)\n",
    "\n",
    "ranked_genes = pd.DataFrame({\n",
    "    'gene': adata.uns['rank_genes_groups']['names']['6'],\n",
    "    'score': adata.uns['rank_genes_groups']['scores']['6']\n",
    "})\n",
    "ranked_genes.to_csv(\"cluster6_ranked_genes.csv\", index=False)\n",
    "\n",
    "gsea_results = gp.prerank(\n",
    "    rnk=\"cluster5_ranked_genes.csv\",\n",
    "    gene_sets=\"h.all.v2024.1.Hs.symbols.gmt\",\n",
    "    outdir=\"gsea_results_cluster5\",  \n",
    "    permutation_num=1000,\n",
    "    min_size=15,\n",
    "    max_size=500,\n",
    ")\n",
    "\n",
    "gsea_results = gp.prerank(\n",
    "    rnk=\"cluster6_ranked_genes.csv\",  \n",
    "    gene_sets=\"h.all.v2024.1.Hs.symbols.gmt\",\n",
    "    outdir=\"gsea_results_cluster6\", \n",
    "    permutation_num=1000, \n",
    "    min_size=15,\n",
    "    max_size=500,\n",
    ")"
   ]
  },
  {
   "cell_type": "code",
   "execution_count": null,
   "metadata": {},
   "outputs": [],
   "source": [
    "import json\n",
    "\n",
    "with open('HALLMARK_OXIDATIVE_PHOSPHORYLATION.v2024.1.Hs.json') as f:\n",
    "    data = json.load(f)\n",
    "\n",
    "geneset_oxphos = data[\"HALLMARK_OXIDATIVE_PHOSPHORYLATION\"][\"geneSymbols\"]\n",
    "\n",
    "geneset_in_data = [gene for gene in geneset_oxphos if gene in adata.var_names]\n",
    "\n",
    "sc.tl.score_genes(adata, gene_list=geneset_in_data, score_name='oxphos_score')\n",
    "\n",
    "sc.pl.spatial(adata, img_key=\"hires\", color=[\"clusters\",\"oxphos_score\"], groups=[\"5\", \"6\"])"
   ]
  },
  {
   "cell_type": "code",
   "execution_count": null,
   "metadata": {},
   "outputs": [],
   "source": [
    "sc.pl.spatial(adata, img_key=\"hires\", color=[\"hypoxia_score\",\"oxphos_score\"])"
   ]
  },
  {
   "cell_type": "code",
   "execution_count": null,
   "metadata": {},
   "outputs": [],
   "source": [
    "sc.pl.spatial(adata, img_key=\"hires\", color=[\"clusters\",\"FABP7\",\"SCD5\",\"TSPAN7\"], groups=[\"0\"])"
   ]
  },
  {
   "cell_type": "code",
   "execution_count": null,
   "metadata": {},
   "outputs": [],
   "source": [
    "geneset_stemlike = ['FABP7','CD133','Nestin','SOX2','CD44','ALDH1A3','Nanog','CD36','ELOVL2','nestin']\n",
    "\n",
    "geneset_in_data = [gene for gene in geneset_stemlike if gene in adata.var_names]\n",
    "\n",
    "sc.tl.score_genes(adata, gene_list=geneset_in_data, score_name='stemlike_score')\n",
    "\n",
    "sc.pl.spatial(adata, img_key=\"hires\", color=[\"clusters\",\"stemlike_score\"], groups=[\"0\"])"
   ]
  },
  {
   "cell_type": "code",
   "execution_count": null,
   "metadata": {},
   "outputs": [],
   "source": [
    "sc.pl.spatial(adata, img_key=\"hires\", color=[\"hypoxia_score\",\"oxphos_score\",\"stemlike_score\"])"
   ]
  },
  {
   "cell_type": "code",
   "execution_count": null,
   "metadata": {},
   "outputs": [],
   "source": [
    "ranked_genes = pd.DataFrame({\n",
    "    'gene': adata.uns['rank_genes_groups']['names']['2'],\n",
    "    'score': adata.uns['rank_genes_groups']['scores']['2']\n",
    "})\n",
    "ranked_genes.to_csv(\"cluster2_ranked_genes.csv\", index=False)\n",
    "\n",
    "ranked_genes = pd.DataFrame({\n",
    "    'gene': adata.uns['rank_genes_groups']['names']['3'],\n",
    "    'score': adata.uns['rank_genes_groups']['scores']['3']\n",
    "})\n",
    "ranked_genes.to_csv(\"cluster3_ranked_genes.csv\", index=False)\n",
    "\n",
    "gsea_results = gp.prerank(\n",
    "    rnk=\"cluster2_ranked_genes.csv\",\n",
    "    gene_sets=\"h.all.v2024.1.Hs.symbols.gmt\",\n",
    "    outdir=\"gsea_results_cluster2\",  \n",
    "    permutation_num=1000,\n",
    "    min_size=15,\n",
    "    max_size=500,\n",
    ")\n",
    "\n",
    "gsea_results = gp.prerank(\n",
    "    rnk=\"cluster3_ranked_genes.csv\",  \n",
    "    gene_sets=\"h.all.v2024.1.Hs.symbols.gmt\",\n",
    "    outdir=\"gsea_results_cluster3\", \n",
    "    permutation_num=1000, \n",
    "    min_size=15,\n",
    "    max_size=500,\n",
    ")"
   ]
  },
  {
   "cell_type": "code",
   "execution_count": null,
   "metadata": {},
   "outputs": [],
   "source": [
    "sc.pl.spatial(adata, img_key=\"hires\", color=[\"clusters\",'CD74','APOD','MGP'],groups=['2','3','9','13'])"
   ]
  },
  {
   "cell_type": "code",
   "execution_count": null,
   "metadata": {},
   "outputs": [],
   "source": [
    "geneset_macro = ['CD74','CCR2', 'CD45RA', 'CD141', 'ICAM', 'CD1C', 'CD1B', 'TGFBI', 'FXYD5', 'FCGR2B', 'CLEC12A', 'CLEC10A', 'CD207', 'CD49D', 'CD209','APOE']\n",
    "\n",
    "geneset_macro_in_data = [gene for gene in geneset_macro if gene in adata.var_names]\n",
    "\n",
    "sc.tl.score_genes(adata, gene_list=geneset_macro_in_data, score_name='macro_score')\n",
    "\n",
    "sc.pl.spatial(adata, img_key=\"hires\", color=[\"clusters\", \"macro_score\"],groups=['2','3','9','13'], vmin=0, vmax=0.9)"
   ]
  },
  {
   "cell_type": "code",
   "execution_count": null,
   "metadata": {},
   "outputs": [],
   "source": [
    "sc.pl.spatial(adata, img_key=\"hires\", color=[\"hypoxia_score\",\"oxphos_score\",\"stemlike_score\",\"macro_score\"])"
   ]
  }
 ],
 "metadata": {
  "kernelspec": {
   "display_name": "Python 3",
   "language": "python",
   "name": "python3"
  },
  "language_info": {
   "codemirror_mode": {
    "name": "ipython",
    "version": 3
   },
   "file_extension": ".py",
   "mimetype": "text/x-python",
   "name": "python",
   "nbconvert_exporter": "python",
   "pygments_lexer": "ipython3",
   "version": "3.11.10"
  }
 },
 "nbformat": 4,
 "nbformat_minor": 2
}
